{
 "cells": [
  {
   "cell_type": "code",
   "execution_count": 1,
   "id": "b6b0a91e-eef8-4176-b2b8-d2e044858a18",
   "metadata": {},
   "outputs": [],
   "source": [
    "#%pwd\n",
    "import os\n",
    "from collections.abc import Iterable\n",
    "from typing import Any, Optional\n",
    "\n",
    "import matplotlib.pyplot as plt\n",
    "import numpy as np\n",
    "import pandas as pd\n",
    "import tqdm\n",
    "from dotenv import load_dotenv\n",
    "from IPython.display import HTML, display"
   ]
  },
  {
   "cell_type": "code",
   "execution_count": 2,
   "id": "6d43767b-d13d-4de3-bd3b-edac10b7e869",
   "metadata": {},
   "outputs": [],
   "source": [
    "import getpass\n",
    "import os\n",
    "from constant import api_key, watsonx_project_id\n",
    "\n",
    "credentials = {\n",
    "    \"url\": \"https://us-south.ml.cloud.ibm.com\",\n",
    "    \"apikey\": api_key\n",
    "}"
   ]
  },
  {
   "cell_type": "code",
   "execution_count": 3,
   "id": "9c18b9a3-fc61-4e4f-b934-be8265f467b9",
   "metadata": {},
   "outputs": [],
   "source": [
    "from langchain.chains import RetrievalQA\n",
    "from langchain.embeddings import HuggingFaceInstructEmbeddings\n",
    "#from langchain.llms import HuggingFaceHub\n",
    "from ibm_watson_machine_learning.foundation_models.utils.enums import ModelTypes\n",
    "\n",
    "#print([model.name for model in ModelTypes])"
   ]
  },
  {
   "cell_type": "code",
   "execution_count": 4,
   "id": "d6ac3138-97c1-48e1-b2cd-24f9e3892660",
   "metadata": {},
   "outputs": [],
   "source": [
    "model_id = ModelTypes.GRANITE_13B_CHAT_V2"
   ]
  },
  {
   "cell_type": "code",
   "execution_count": 5,
   "id": "aca64f34-9d45-4a56-a15a-a34af3244fcc",
   "metadata": {},
   "outputs": [
    {
     "data": {
      "text/plain": [
       "<ModelTypes.GRANITE_13B_CHAT_V2: 'ibm/granite-13b-chat-v2'>"
      ]
     },
     "execution_count": 5,
     "metadata": {},
     "output_type": "execute_result"
    }
   ],
   "source": [
    "model_id "
   ]
  },
  {
   "cell_type": "code",
   "execution_count": 6,
   "id": "bc5bc786-fbe9-4cb5-a867-31e4336aa584",
   "metadata": {},
   "outputs": [],
   "source": [
    "model_id = ModelTypes.MT0_XXL\n",
    "from ibm_watson_machine_learning.metanames import GenTextParamsMetaNames as GenParams\n",
    "from ibm_watson_machine_learning.foundation_models.utils.enums import DecodingMethods\n",
    "\n",
    "parameters = {\n",
    "    GenParams.DECODING_METHOD: DecodingMethods.SAMPLE,\n",
    "    GenParams.MAX_NEW_TOKENS: 100,\n",
    "    GenParams.MIN_NEW_TOKENS: 1,\n",
    "    GenParams.TEMPERATURE: 0.5,\n",
    "    GenParams.TOP_K: 50,\n",
    "    GenParams.TOP_P: 1\n",
    "}\n",
    "\n",
    "from ibm_watson_machine_learning.foundation_models import Model\n",
    "\n",
    "starcoder = Model(\n",
    "    model_id=model_id, \n",
    "    params=parameters, \n",
    "    credentials=credentials,\n",
    "    project_id=watsonx_project_id)\n",
    "from ibm_watson_machine_learning.foundation_models.extensions.langchain import WatsonxLLM\n",
    "\n",
    "llm = WatsonxLLM(model=starcoder)"
   ]
  },
  {
   "cell_type": "code",
   "execution_count": 7,
   "id": "14838b7c-fd1e-4769-828d-bee268a39885",
   "metadata": {},
   "outputs": [
    {
     "name": "stdout",
     "output_type": "stream",
     "text": [
      "['FLAN_T5_XXL', 'FLAN_UL2', 'MT0_XXL', 'GPT_NEOX', 'MPT_7B_INSTRUCT2', 'STARCODER', 'LLAMA_2_70B_CHAT', 'LLAMA_2_13B_CHAT', 'GRANITE_13B_INSTRUCT', 'GRANITE_13B_CHAT', 'FLAN_T5_XL', 'GRANITE_13B_CHAT_V2', 'GRANITE_13B_INSTRUCT_V2', 'ELYZA_JAPANESE_LLAMA_2_7B_INSTRUCT']\n"
     ]
    }
   ],
   "source": [
    "print([model.name for model in ModelTypes])"
   ]
  },
  {
   "cell_type": "code",
   "execution_count": 8,
   "id": "3f05b235-88e1-4359-bafd-8e6766e98ad8",
   "metadata": {},
   "outputs": [
    {
     "name": "stdout",
     "output_type": "stream",
     "text": [
      "['Config', 'InputType', 'OutputType', '__abstractmethods__', '__annotations__', '__call__', '__class__', '__class_getitem__', '__class_vars__', '__config__', '__custom_root_type__', '__delattr__', '__dict__', '__dir__', '__doc__', '__eq__', '__exclude_fields__', '__fields__', '__fields_set__', '__format__', '__ge__', '__get_validators__', '__getattribute__', '__getstate__', '__gt__', '__hash__', '__include_fields__', '__init__', '__init_subclass__', '__iter__', '__json_encoder__', '__le__', '__lt__', '__module__', '__ne__', '__new__', '__or__', '__orig_bases__', '__parameters__', '__post_root_validators__', '__pre_root_validators__', '__pretty__', '__private_attributes__', '__reduce__', '__reduce_ex__', '__repr__', '__repr_args__', '__repr_name__', '__repr_str__', '__rich_repr__', '__ror__', '__schema_cache__', '__setattr__', '__setstate__', '__signature__', '__sizeof__', '__slots__', '__str__', '__subclasshook__', '__try_update_forward_refs__', '__validators__', '__weakref__', '_abatch_with_config', '_abc_impl', '_acall', '_acall_with_config', '_agenerate', '_agenerate_helper', '_all_required_field_names', '_astream', '_atransform_stream_with_config', '_batch_with_config', '_calculate_keys', '_call', '_call_async', '_call_with_config', '_convert_input', '_copy_and_set_values', '_decompose_class', '_enforce_dict_if_root', '_generate', '_generate_helper', '_get_value', '_identifying_params', '_init_private_attributes', '_is_protocol', '_iter', '_lc_kwargs', '_llm_type', '_stream', '_transform_stream_with_config', 'abatch', 'agenerate', 'agenerate_prompt', 'ainvoke', 'apredict', 'apredict_messages', 'assign', 'astream', 'astream_events', 'astream_log', 'atransform', 'batch', 'bind', 'cache', 'callback_manager', 'callbacks', 'config_schema', 'config_specs', 'configurable_alternatives', 'configurable_fields', 'construct', 'copy', 'dict', 'from_orm', 'generate', 'generate_prompt', 'get_graph', 'get_input_schema', 'get_lc_namespace', 'get_name', 'get_num_tokens', 'get_num_tokens_from_messages', 'get_output_schema', 'get_prompts', 'get_token_ids', 'input_schema', 'invoke', 'is_lc_serializable', 'json', 'lc_attributes', 'lc_id', 'lc_secrets', 'llm_type', 'map', 'metadata', 'model', 'name', 'output_schema', 'parse_file', 'parse_obj', 'parse_raw', 'pick', 'pipe', 'predict', 'predict_messages', 'raise_deprecation', 'save', 'schema', 'schema_json', 'set_verbose', 'stream', 'tags', 'to_json', 'to_json_not_implemented', 'transform', 'update_forward_refs', 'validate', 'verbose', 'with_config', 'with_fallbacks', 'with_listeners', 'with_retry', 'with_types']\n"
     ]
    }
   ],
   "source": [
    "print(dir(llm))"
   ]
  },
  {
   "cell_type": "code",
   "execution_count": 9,
   "id": "17203090-290d-4686-b31f-02315a33002c",
   "metadata": {},
   "outputs": [],
   "source": [
    "prompt = [\n",
    "    \"\"\"\n",
    "    You are an expert in converting English questions to SQL query!\n",
    "    The SQL database has the name STUDENT and has the following columns - NAME, CLASS, SECTION.\n",
    "    For example:\n",
    "    Example 1 - How many entries of records are present?, the SQL command will be: SELECT COUNT(*) FROM STUDENT;\n",
    "    Example 2 - Tell me all the students studying in Data Science class?, the SQL command will be: SELECT * FROM STUDENT where CLASS='Data Science';\n",
    "    Ensure the SQL code does not have ``` in the beginning or end and no SQL word in the output.\n",
    "    \"\"\"\n",
    "]"
   ]
  },
  {
   "cell_type": "code",
   "execution_count": 10,
   "id": "35f3cb5e-ca4a-4a72-a7c2-7547c710800b",
   "metadata": {},
   "outputs": [
    {
     "data": {
      "text/plain": [
       "\"\\n    You are an expert in converting English questions to SQL query!\\n    The SQL database has the name STUDENT and has the following columns - NAME, CLASS, SECTION.\\n    For example:\\n    Example 1 - How many entries of records are present?, the SQL command will be: SELECT COUNT(*) FROM STUDENT;\\n    Example 2 - Tell me all the students studying in Data Science class?, the SQL command will be: SELECT * FROM STUDENT where CLASS='Data Science';\\n    Ensure the SQL code does not have ``` in the beginning or end and no SQL word in the output.\\n    \""
      ]
     },
     "execution_count": 10,
     "metadata": {},
     "output_type": "execute_result"
    }
   ],
   "source": [
    "prompt[0]"
   ]
  },
  {
   "cell_type": "code",
   "execution_count": 11,
   "id": "592f723b-072e-4744-a292-a5a6e70f699b",
   "metadata": {},
   "outputs": [],
   "source": [
    "question=\"provide query for average student marks\""
   ]
  },
  {
   "cell_type": "code",
   "execution_count": 12,
   "id": "75216448-c6de-44ff-89b3-806d8652341f",
   "metadata": {},
   "outputs": [],
   "source": [
    "response = llm.generate([prompt[0], question])"
   ]
  },
  {
   "cell_type": "code",
   "execution_count": 13,
   "id": "29109180-01c0-498d-b959-a463b1b55a10",
   "metadata": {},
   "outputs": [
    {
     "data": {
      "text/plain": [
       "LLMResult(generations=[[Generation(text=\"SELECT * FROM STUDENT; SELECT * FROM STUDENT where NAME='NAME'; SELECT * FROM STUDENT where SECTION='SECTION'; SELECT * FROM STUDENT where NAME=NAME; SELECT * FROM STUDENT where SECTION=SECTION; SELECT * FROM STUDENT where NAME=NAME; SELECT * FROM STUDENT where SECTION=SECTION; SELECT * FROM\")], [Generation(text='average_student_marks = np.mean(student_marks)')]], llm_output=None, run=[RunInfo(run_id=UUID('8195f7bb-0f7c-4527-9abf-de411dde5dc6')), RunInfo(run_id=UUID('08daa195-8c8d-4e1f-a97c-6e83cd19edd9'))])"
      ]
     },
     "execution_count": 13,
     "metadata": {},
     "output_type": "execute_result"
    }
   ],
   "source": [
    "response"
   ]
  },
  {
   "cell_type": "code",
   "execution_count": 14,
   "id": "22bd2992-68c2-4202-97ad-b4d120e8d08f",
   "metadata": {},
   "outputs": [
    {
     "data": {
      "text/plain": [
       "\"SELECT * FROM STUDENT; SELECT * FROM STUDENT where NAME='NAME'; SELECT * FROM STUDENT where SECTION='SECTION'; SELECT * FROM STUDENT where NAME=NAME; SELECT * FROM STUDENT where SECTION=SECTION; SELECT * FROM STUDENT where NAME=NAME; SELECT * FROM STUDENT where SECTION=SECTION; SELECT * FROM\""
      ]
     },
     "execution_count": 14,
     "metadata": {},
     "output_type": "execute_result"
    }
   ],
   "source": [
    "response.generations[0][0].text"
   ]
  },
  {
   "cell_type": "code",
   "execution_count": 15,
   "id": "67750116-9d93-4594-8b36-bf7649528378",
   "metadata": {},
   "outputs": [],
   "source": [
    "# model works- granite_instruct_v2, flan_t5_xxl,flan_ul2,flan_t5_xl,mt0_xxl"
   ]
  },
  {
   "cell_type": "code",
   "execution_count": null,
   "id": "ccefd35e-6fd9-4907-ba19-6d0c2691d66d",
   "metadata": {},
   "outputs": [],
   "source": []
  }
 ],
 "metadata": {
  "kernelspec": {
   "display_name": "Python 3 (ipykernel)",
   "language": "python",
   "name": "python3"
  },
  "language_info": {
   "codemirror_mode": {
    "name": "ipython",
    "version": 3
   },
   "file_extension": ".py",
   "mimetype": "text/x-python",
   "name": "python",
   "nbconvert_exporter": "python",
   "pygments_lexer": "ipython3",
   "version": "3.10.0"
  }
 },
 "nbformat": 4,
 "nbformat_minor": 5
}
