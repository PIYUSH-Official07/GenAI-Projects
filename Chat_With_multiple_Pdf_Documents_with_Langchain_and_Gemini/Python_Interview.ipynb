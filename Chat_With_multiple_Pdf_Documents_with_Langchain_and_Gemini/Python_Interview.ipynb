{
 "cells": [
  {
   "cell_type": "code",
   "execution_count": 1,
   "id": "390ce902",
   "metadata": {},
   "outputs": [],
   "source": [
    "x = [1,5,9,0] \n",
    "y = [3,0,2,9]"
   ]
  },
  {
   "cell_type": "code",
   "execution_count": 7,
   "id": "2a6fdfe8",
   "metadata": {},
   "outputs": [
    {
     "data": {
      "text/plain": [
       "{0, 9}"
      ]
     },
     "execution_count": 7,
     "metadata": {},
     "output_type": "execute_result"
    }
   ],
   "source": [
    "set(x).intersection (set(y))"
   ]
  },
  {
   "cell_type": "code",
   "execution_count": 6,
   "id": "4ecff44c",
   "metadata": {},
   "outputs": [],
   "source": [
    "arr = [1,2,3,1,3,6,5] #output: [1,3]"
   ]
  },
  {
   "cell_type": "code",
   "execution_count": null,
   "id": "e225ab9d",
   "metadata": {},
   "outputs": [],
   "source": [
    "set1=set()\n",
    "res=set()\n",
    "for i in list:\n",
    "  if i in set1:\n",
    "    res.add(i)\n",
    "  else:\n",
    "    set1.add(i)\n",
    "print(res)"
   ]
  },
  {
   "cell_type": "code",
   "execution_count": 10,
   "id": "40c97dcb",
   "metadata": {},
   "outputs": [],
   "source": [
    "class Car:\n",
    "    model = \"Hashback\"\n",
    "    color= \"Black\"\n",
    "    price= 10000000\n",
    "    def lock(self):\n",
    "        print(\"Car is now locked\")\n",
    "    def drive(self):\n",
    "        print(\"Zoom Zoom\")\n",
    "c1 = Car()"
   ]
  },
  {
   "cell_type": "code",
   "execution_count": 11,
   "id": "43c67eb9",
   "metadata": {},
   "outputs": [],
   "source": [
    "c2 = Car()"
   ]
  },
  {
   "cell_type": "code",
   "execution_count": 13,
   "id": "2437f5f7",
   "metadata": {},
   "outputs": [
    {
     "name": "stdout",
     "output_type": "stream",
     "text": [
      "Zoom Zoom\n"
     ]
    },
    {
     "data": {
      "text/plain": [
       "('Hashback', None)"
      ]
     },
     "execution_count": 13,
     "metadata": {},
     "output_type": "execute_result"
    }
   ],
   "source": [
    "c1.model,c1.drive()"
   ]
  },
  {
   "cell_type": "code",
   "execution_count": null,
   "id": "d51118b8",
   "metadata": {},
   "outputs": [],
   "source": []
  },
  {
   "cell_type": "code",
   "execution_count": null,
   "id": "27a4035c",
   "metadata": {},
   "outputs": [],
   "source": []
  },
  {
   "cell_type": "code",
   "execution_count": null,
   "id": "5c75bf11",
   "metadata": {},
   "outputs": [],
   "source": []
  },
  {
   "cell_type": "code",
   "execution_count": null,
   "id": "ab15dd69",
   "metadata": {},
   "outputs": [],
   "source": []
  }
 ],
 "metadata": {
  "kernelspec": {
   "display_name": "Python 3 (ipykernel)",
   "language": "python",
   "name": "python3"
  },
  "language_info": {
   "codemirror_mode": {
    "name": "ipython",
    "version": 3
   },
   "file_extension": ".py",
   "mimetype": "text/x-python",
   "name": "python",
   "nbconvert_exporter": "python",
   "pygments_lexer": "ipython3",
   "version": "3.11.4"
  }
 },
 "nbformat": 4,
 "nbformat_minor": 5
}
